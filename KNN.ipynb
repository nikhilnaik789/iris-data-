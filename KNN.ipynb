{
 "cells": [
  {
   "cell_type": "code",
   "execution_count": 1,
   "id": "dafeee3d",
   "metadata": {},
   "outputs": [],
   "source": [
    "import numpy as np\n",
    "from matplotlib import pyplot as plt\n",
    "%matplotlib inline"
   ]
  },
  {
   "cell_type": "code",
   "execution_count": 5,
   "id": "375f877d",
   "metadata": {},
   "outputs": [
    {
     "name": "stdout",
     "output_type": "stream",
     "text": [
      "(500, 2) (500, 2)\n"
     ]
    }
   ],
   "source": [
    "mean_01 = np.asarray([0., 2.])\n",
    "sigma_01 = np.asarray([[1.0, 0.0], [0.0, 1.0]])\n",
    "\n",
    "mean_02 = np.asarray([4., 0.])\n",
    "sigma_02 = np.asarray([[1.0, 0.0], [0.0, 1.0]])\n",
    "\n",
    "data_01 = np.random.multivariate_normal(mean_01, sigma_01, 500)\n",
    "data_02 = np.random.multivariate_normal(mean_02, sigma_02, 500)\n",
    "print(data_01.shape, data_02.shape)"
   ]
  },
  {
   "cell_type": "code",
   "execution_count": 8,
   "id": "0052810e",
   "metadata": {},
   "outputs": [
    {
     "data": {
      "image/png": "[encoded data removed]",
      "text/plain": [
       "<Figure size 432x288 with 1 Axes>"
      ]
     },
     "metadata": {
      "needs_background": "light"
     },
     "output_type": "display_data"
    }
   ],
   "source": [
    "plt.figure(0)\n",
    "plt.grid('on')\n",
    "plt.scatter(data_01[:, 0], data_01[:, 1], color='red')\n",
    "plt.scatter(data_02[:, 0], data_02[:, 1], color='green')\n",
    "plt.show()"
   ]
  },
  {
   "cell_type": "code",
   "execution_count": 9,
   "id": "caac6954",
   "metadata": {},
   "outputs": [],
   "source": [
    "labels = np.zeros((1000, 1))\n",
    "labels[500:, :] = 1.0"
   ]
  },
  {
   "cell_type": "code",
   "execution_count": 11,
   "id": "b6de9ac4",
   "metadata": {},
   "outputs": [
    {
     "name": "stdout",
     "output_type": "stream",
     "text": [
      "(1000, 2)\n"
     ]
    }
   ],
   "source": [
    "data = np.concatenate([data_01, data_02], axis=0)\n",
    "print(data.shape)"
   ]
  },
  {
   "cell_type": "code",
   "execution_count": 15,
   "id": "4cedb3b9",
   "metadata": {},
   "outputs": [
    {
     "name": "stdout",
     "output_type": "stream",
     "text": [
      "[95, 304, 612, 10, 775, 195, 471, 806, 131, 388]\n"
     ]
    }
   ],
   "source": [
    "import numpy as np\n",
    "\n",
    "ind = list(range(1000))\n",
    "np.random.shuffle(ind)\n",
    "\n",
    "print(ind[:10])"
   ]
  },
  {
   "cell_type": "code",
   "execution_count": 16,
   "id": "d49326ad",
   "metadata": {},
   "outputs": [],
   "source": [
    "data = data[ind]\n",
    "labels = labels[ind]"
   ]
  },
  {
   "cell_type": "code",
   "execution_count": 18,
   "id": "f786ffc2",
   "metadata": {},
   "outputs": [
    {
     "name": "stdout",
     "output_type": "stream",
     "text": [
      "(1000, 2) (1000, 1)\n"
     ]
    }
   ],
   "source": [
    "print (data.shape, labels.shape)"
   ]
  },
  {
   "cell_type": "code",
   "execution_count": 25,
   "id": "b409dd38",
   "metadata": {},
   "outputs": [],
   "source": [
    "def distance(x1, x2):\n",
    "    return np.sqrt(((x1-x2)**2).sum())\n",
    "\n",
    "def knn(x, train, targets, k=5):\n",
    "    m = train.shape[0]\n",
    "    dist = []\n",
    "    for ix in range(m):\n",
    "        # compute distance from each point and store in dist\n",
    "        dist.append(distance(x, train[ix]))\n",
    "    dist = np.asarray(dist)\n",
    "    indx = np.argsort(dist)\n",
    "    sorted_labels = labels[indx][:k]\n",
    "    counts = np.unique(sorted_labels, return_counts=True)\n",
    "    return counts[0][np.argmax(counts[1])]"
   ]
  },
  {
   "cell_type": "code",
   "execution_count": 26,
   "id": "d17e1a51",
   "metadata": {},
   "outputs": [
    {
     "data": {
      "text/plain": [
       "1.0"
      ]
     },
     "execution_count": 26,
     "metadata": {},
     "output_type": "execute_result"
    }
   ],
   "source": [
    "x_test = np.asarray([4.0, -2.0])\n",
    "knn(x_test, data, labels)"
   ]
  },
  {
   "cell_type": "code",
   "execution_count": 28,
   "id": "8a9d5818",
   "metadata": {},
   "outputs": [
    {
     "name": "stdout",
     "output_type": "stream",
     "text": [
      "(750, 2) (250, 2)\n",
      "(750, 1) (250, 1)\n"
     ]
    }
   ],
   "source": [
    "# split the data into training and testing\n",
    "split = int(data.shape[0] * 0.75)\n",
    "\n",
    "X_train = data[:split]\n",
    "X_test = data[split:]\n",
    "\n",
    "y_train = labels[:split]\n",
    "y_test = labels[split:]\n",
    "\n",
    "print(X_train.shape, X_test.shape)\n",
    "print (y_train.shape, y_test.shape)"
   ]
  },
  {
   "cell_type": "code",
   "execution_count": 29,
   "id": "4bb0f21a",
   "metadata": {},
   "outputs": [
    {
     "name": "stdout",
     "output_type": "stream",
     "text": [
      "(250, 1)\n"
     ]
    }
   ],
   "source": [
    "# create a placeholder for storing test predictions\n",
    "preds = []\n",
    "\n",
    "# run a loop over every testing example and store the predictions\n",
    "for tx in range(X_test.shape[0]):\n",
    "    preds.append(knn(X_test[tx], X_train, y_train))\n",
    "preds = np.asarray(preds).reshape((250, 1))\n",
    "print (preds.shape)"
   ]
  },
  {
   "cell_type": "code",
   "execution_count": 31,
   "id": "d58995b0",
   "metadata": {},
   "outputs": [
    {
     "name": "stdout",
     "output_type": "stream",
     "text": [
      "98.4\n"
     ]
    }
   ],
   "source": [
    "print (100*(preds == y_test).sum() / float(preds.shape[0]))"
   ]
  }
 ],
 "metadata": {
  "kernelspec": {
   "display_name": "Python 3 (ipykernel)",
   "language": "python",
   "name": "python3"
  },
  "language_info": {
   "codemirror_mode": {
    "name": "ipython",
    "version": 3
   },
   "file_extension": ".py",
   "mimetype": "text/x-python",
   "name": "python",
   "nbconvert_exporter": "python",
   "pygments_lexer": "ipython3",
   "version": "3.9.12"
  }
 },
 "nbformat": 4,
 "nbformat_minor": 5
}
